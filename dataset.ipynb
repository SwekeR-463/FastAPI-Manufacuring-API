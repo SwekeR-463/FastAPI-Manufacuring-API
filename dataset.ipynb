{
 "cells": [
  {
   "cell_type": "code",
   "execution_count": 1,
   "metadata": {},
   "outputs": [],
   "source": [
    "import pandas as pd\n",
    "import numpy as np\n",
    "\n",
    "np.random.seed(42)\n",
    "\n",
    "n_samples = 5000  # number of samples\n",
    "machine_ids = [f\"Machine_{i}\" for i in range(1, 21)]  # 20 unique machine IDs\n",
    "\n",
    "# generate synthetic features\n",
    "machine_id = np.random.choice(machine_ids, n_samples)\n",
    "temperature = np.random.uniform(50, 100, n_samples)  # temperature in range 50-100 C\n",
    "run_time = np.random.uniform(10, 200, n_samples)  # run time in range 10-200 hours\n",
    "\n",
    "# generate target variable: Downtime_Flag (1 for downtime, 0 otherwise)\n",
    "downtime_flag = (temperature > 80) & (run_time > 150)  # downtime likely for high temp & long runtime\n",
    "downtime_flag = downtime_flag.astype(int)  # convert to 0/1\n",
    "\n",
    "# create the dataframe\n",
    "synthetic_data = pd.DataFrame({\n",
    "    \"Machine_ID\": machine_id,\n",
    "    \"Temperature\": temperature,\n",
    "    \"Run_Time\": run_time,\n",
    "    \"Downtime_Flag\": downtime_flag\n",
    "})\n",
    "\n",
    "# save the file\n",
    "file_path = \"synthetic_manufacturing_data.csv\"\n",
    "synthetic_data.to_csv(file_path, index=False)"
   ]
  }
 ],
 "metadata": {
  "kernelspec": {
   "display_name": "myenv",
   "language": "python",
   "name": "python3"
  },
  "language_info": {
   "codemirror_mode": {
    "name": "ipython",
    "version": 3
   },
   "file_extension": ".py",
   "mimetype": "text/x-python",
   "name": "python",
   "nbconvert_exporter": "python",
   "pygments_lexer": "ipython3",
   "version": "3.12.3"
  }
 },
 "nbformat": 4,
 "nbformat_minor": 2
}
